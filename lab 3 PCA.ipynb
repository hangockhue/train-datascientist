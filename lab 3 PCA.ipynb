{
  "nbformat": 4,
  "nbformat_minor": 0,
  "metadata": {
    "colab": {
      "name": "Untitled1.ipynb",
      "provenance": []
    },
    "kernelspec": {
      "name": "python3",
      "display_name": "Python 3"
    }
  },
  "cells": [
    {
      "cell_type": "code",
      "metadata": {
        "id": "VGcr8MpjWfBd",
        "colab_type": "code",
        "colab": {}
      },
      "source": [
        "import numpy as np"
      ],
      "execution_count": 0,
      "outputs": []
    },
    {
      "cell_type": "code",
      "metadata": {
        "id": "ALoMjlAbWufv",
        "colab_type": "code",
        "colab": {}
      },
      "source": [
        "C = np.array([[1,-2,0],[-2,5,0],[0,0,2]])"
      ],
      "execution_count": 0,
      "outputs": []
    },
    {
      "cell_type": "code",
      "metadata": {
        "id": "YjTnNThxW6xM",
        "colab_type": "code",
        "outputId": "a6c0100d-e5f8-4e22-e7aa-7c0b18d3d113",
        "colab": {
          "base_uri": "https://localhost:8080/",
          "height": 74
        }
      },
      "source": [
        "C"
      ],
      "execution_count": 0,
      "outputs": [
        {
          "output_type": "execute_result",
          "data": {
            "text/plain": [
              "array([[ 1, -2,  0],\n",
              "       [-2,  5,  0],\n",
              "       [ 0,  0,  2]])"
            ]
          },
          "metadata": {
            "tags": []
          },
          "execution_count": 4
        }
      ]
    },
    {
      "cell_type": "code",
      "metadata": {
        "id": "O6QmwQbLXPNW",
        "colab_type": "code",
        "colab": {}
      },
      "source": [
        "# Tính ma trận hiệp phương sai (covariance matrix)"
      ],
      "execution_count": 0,
      "outputs": []
    },
    {
      "cell_type": "code",
      "metadata": {
        "id": "ljBhRbobX6R7",
        "colab_type": "code",
        "outputId": "a2b3d8c0-3f59-45a2-b099-46f62883ad73",
        "colab": {
          "base_uri": "https://localhost:8080/",
          "height": 74
        }
      },
      "source": [
        "cov = np.cov(C)\n",
        "cov"
      ],
      "execution_count": 0,
      "outputs": [
        {
          "output_type": "execute_result",
          "data": {
            "text/plain": [
              "array([[ 2.33333333, -5.5       ,  0.33333333],\n",
              "       [-5.5       , 13.        , -1.        ],\n",
              "       [ 0.33333333, -1.        ,  1.33333333]])"
            ]
          },
          "metadata": {
            "tags": []
          },
          "execution_count": 7
        }
      ]
    },
    {
      "cell_type": "code",
      "metadata": {
        "id": "18mtk5TgYmFG",
        "colab_type": "code",
        "colab": {}
      },
      "source": [
        "# Tính Eigenvectors and corresponding Eigenvalues"
      ],
      "execution_count": 0,
      "outputs": []
    },
    {
      "cell_type": "code",
      "metadata": {
        "id": "mjLRWiVxY322",
        "colab_type": "code",
        "colab": {}
      },
      "source": [
        "# Let A be a square matrix, ν a vector and λ a scalar that satisfies Aν = λν, then λ is called \n",
        "# eigenvalue associated with eigenvector ν of A."
      ],
      "execution_count": 0,
      "outputs": []
    },
    {
      "cell_type": "code",
      "metadata": {
        "id": "7UehGu_HZnUk",
        "colab_type": "code",
        "colab": {}
      },
      "source": [
        "# Với A là một ma trận vuông , v là một vector và λ là một vector vô hướng thỏa mã Av = λv, khi đó\n",
        "# λ được gọi là giá trị riêng với vector riêng của A\n",
        "# Thõa mãn det(A - λl) = 0"
      ],
      "execution_count": 0,
      "outputs": []
    },
    {
      "cell_type": "code",
      "metadata": {
        "id": "cH0xw7GtaWHu",
        "colab_type": "code",
        "colab": {}
      },
      "source": [
        "# Ta có det(C - λl) = 0 với l là một ma trận đơn vị"
      ],
      "execution_count": 0,
      "outputs": []
    },
    {
      "cell_type": "code",
      "metadata": {
        "id": "RPEp9kUDa6xx",
        "colab_type": "code",
        "colab": {}
      },
      "source": [
        "'''\n",
        "                    [[1,   0,    0],\n",
        "          C   - λ*   [0,   1,    0],\n",
        "                     [0,   0,    1]] '''"
      ],
      "execution_count": 0,
      "outputs": []
    },
    {
      "cell_type": "code",
      "metadata": {
        "id": "IeineERabuk5",
        "colab_type": "code",
        "colab": {}
      },
      "source": [
        "'''\n",
        "       [[ 1, -2,  0],       [[λ,   0,    0],\n",
        "        [-2,  5,  0],  -     [0,   λ,    0],\n",
        "        [ 0,  0,  2]]        [0,   0,    λ]] '''"
      ],
      "execution_count": 0,
      "outputs": []
    },
    {
      "cell_type": "code",
      "metadata": {
        "id": "AkbsNUtdb5Zq",
        "colab_type": "code",
        "colab": {}
      },
      "source": [
        "'''\n",
        "       [[ 1 - λ ,-2       ,  0    ]\n",
        "        [-2     , 5  -λ   ,  0    ]\n",
        "        [ 0     , 0       ,  2  -λ]]   '''"
      ],
      "execution_count": 0,
      "outputs": []
    },
    {
      "cell_type": "code",
      "metadata": {
        "id": "3YsEiOzncItf",
        "colab_type": "code",
        "colab": {}
      },
      "source": [
        "''' det([[ 1 - λ ,-2       ,  0    ]\n",
        "        [-2     , 5  -λ   ,  0    ]\n",
        "        [ 0     , 0       ,  2  -λ]])   = 0 '''"
      ],
      "execution_count": 0,
      "outputs": []
    },
    {
      "cell_type": "code",
      "metadata": {
        "id": "R53IueWPcWj7",
        "colab_type": "code",
        "colab": {}
      },
      "source": [
        "''' det(C) = 0 => (a11*a22*a33 + a12*a23*a31 + a13*a21*a32 - a13*a22*a31 -a12*a21*a33 - a11*a23*a32) = 0\n",
        "                => ((1-λ)*(5-λ)*(2-λ) + (-2*0*0) + (0) - (0) - (-2*-2*(2-λ)) - (0) = 0 '''"
      ],
      "execution_count": 0,
      "outputs": []
    },
    {
      "cell_type": "code",
      "metadata": {
        "id": "PuSFJpcffqMq",
        "colab_type": "code",
        "colab": {}
      },
      "source": [
        "\n",
        "# => λ1= 0.17157288\n",
        "#    λ2= 5.82842712\n",
        "#    λ3= 2.\n",
        "# => Đây là giá trị eigenvalue"
      ],
      "execution_count": 0,
      "outputs": []
    },
    {
      "cell_type": "code",
      "metadata": {
        "id": "c-2gCIJPFpvg",
        "colab_type": "code",
        "colab": {}
      },
      "source": [
        "# Tính giá trị eigenvector => A*"
      ],
      "execution_count": 0,
      "outputs": []
    },
    {
      "cell_type": "code",
      "metadata": {
        "id": "VOdw5Z7JKaXk",
        "colab_type": "code",
        "colab": {}
      },
      "source": [
        "# Với λ1= 0.17157288:\n",
        "# (A - λl)v1 = 0 =>  [ 1 - λl,   -2,  0],    [[x],         \n",
        "#                   [-2,    5 - λl,  0], *  [y],  = 0 =>  \n",
        "#                   [ 0,    0 ,  2 - λl]]    [z]]          \n",
        "# => v1 = (-0.92387953  0.38268343  0.)"
      ],
      "execution_count": 0,
      "outputs": []
    },
    {
      "cell_type": "code",
      "metadata": {
        "id": "htE6DbVhUHQG",
        "colab_type": "code",
        "colab": {}
      },
      "source": [
        "# tương tự với v2 và v3 "
      ],
      "execution_count": 0,
      "outputs": []
    },
    {
      "cell_type": "markdown",
      "metadata": {
        "id": "IANClwHVToJ-",
        "colab_type": "text"
      },
      "source": [
        ""
      ]
    },
    {
      "cell_type": "markdown",
      "metadata": {
        "id": "yF4WqkQcHVeF",
        "colab_type": "text"
      },
      "source": [
        "Tính toán lại bằng hàm"
      ]
    },
    {
      "cell_type": "code",
      "metadata": {
        "id": "6QU8xtv6GN_1",
        "colab_type": "code",
        "colab": {}
      },
      "source": [
        "from numpy import linalg as LA"
      ],
      "execution_count": 0,
      "outputs": []
    },
    {
      "cell_type": "code",
      "metadata": {
        "id": "rIoSy1cDGY0P",
        "colab_type": "code",
        "colab": {}
      },
      "source": [
        "w, a = LA.eig(C)"
      ],
      "execution_count": 0,
      "outputs": []
    },
    {
      "cell_type": "code",
      "metadata": {
        "id": "OKRgAz3nGg68",
        "colab_type": "code",
        "outputId": "b0673874-a47e-42b8-bb99-d46194c77af7",
        "colab": {
          "base_uri": "https://localhost:8080/",
          "height": 36
        }
      },
      "source": [
        "print(\"eigenvalue là\", w )"
      ],
      "execution_count": 0,
      "outputs": [
        {
          "output_type": "stream",
          "text": [
            "eigenvalue là [0.17157288 5.82842712 2.        ]\n"
          ],
          "name": "stdout"
        }
      ]
    },
    {
      "cell_type": "code",
      "metadata": {
        "id": "ULHXuC4lH8uX",
        "colab_type": "code",
        "colab": {
          "base_uri": "https://localhost:8080/",
          "height": 36
        },
        "outputId": "7bd55da9-f8ad-432a-faff-cc89d4933fb7"
      },
      "source": [
        "0.17157288 + 5.82842712"
      ],
      "execution_count": 3,
      "outputs": [
        {
          "output_type": "execute_result",
          "data": {
            "text/plain": [
              "6.0"
            ]
          },
          "metadata": {
            "tags": []
          },
          "execution_count": 3
        }
      ]
    },
    {
      "cell_type": "code",
      "metadata": {
        "id": "FIYUHFMCGiJQ",
        "colab_type": "code",
        "outputId": "92184518-1458-4d86-d276-33b2b0ab1f1b",
        "colab": {
          "base_uri": "https://localhost:8080/",
          "height": 93
        }
      },
      "source": [
        "print(\"eigenvector là\")\n",
        "for i in a:\n",
        "  print(i)"
      ],
      "execution_count": 0,
      "outputs": [
        {
          "output_type": "stream",
          "text": [
            "eigenvector là\n",
            "[-0.92387953  0.38268343  0.        ]\n",
            "[-0.38268343 -0.92387953  0.        ]\n",
            "[0. 0. 1.]\n"
          ],
          "name": "stdout"
        }
      ]
    },
    {
      "cell_type": "markdown",
      "metadata": {
        "id": "gic3TUx8CfA0",
        "colab_type": "text"
      },
      "source": [
        "### Tính pricipal component Y1, Y2, Y3"
      ]
    },
    {
      "cell_type": "code",
      "metadata": {
        "id": "L4L2l2hHCmdT",
        "colab_type": "code",
        "colab": {}
      },
      "source": [
        "# Ta có Y1 = v1*X = -0.92387953*X1 + 0.38268343*X2 + 0*X3   \n",
        "# Ta có Y2 = v2*X = -0.38268343*X1 -0.92387953*X2  0.*X3\n",
        "# Ta có Y3 = v3*X = 0.*X1 + 0.*X2 + 1.*X3"
      ],
      "execution_count": 0,
      "outputs": []
    },
    {
      "cell_type": "code",
      "metadata": {
        "id": "-UWJau8sEaES",
        "colab_type": "code",
        "colab": {}
      },
      "source": [
        "# Ta có tổng phương sai = Tổng trị riêng = λl + λ2 + λ3 = 8 => "
      ],
      "execution_count": 0,
      "outputs": []
    }
  ]
}